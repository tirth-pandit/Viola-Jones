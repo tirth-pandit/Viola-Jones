{
 "cells": [
  {
   "cell_type": "code",
   "execution_count": 2,
   "metadata": {
    "id": "kSh8Z5xksknF"
   },
   "outputs": [],
   "source": [
    "import cv2 \n",
    "import numpy as np\n",
    "from matplotlib import pyplot as plt\n",
    "import os\n",
    "from sklearn.feature_selection import SelectPercentile, f_classif\n",
    "import math\n",
    "import pickle\n",
    "import time"
   ]
  },
  {
   "cell_type": "markdown",
   "metadata": {
    "id": "76VOWf-vsuvB"
   },
   "source": [
    "**Load Training Data**"
   ]
  },
  {
   "cell_type": "code",
   "execution_count": 3,
   "metadata": {
    "id": "TG0FeUy_spUY"
   },
   "outputs": [],
   "source": [
    "with open(\"/content/drive/MyDrive/train_data_15X15.pkl\", 'rb') as f:\n",
    "    training = pickle.load(f)"
   ]
  },
  {
   "cell_type": "markdown",
   "metadata": {
    "id": "5Saez6Lss-HW"
   },
   "source": [
    "**Count Postive and Negative Examples in Training set**"
   ]
  },
  {
   "cell_type": "code",
   "execution_count": 4,
   "metadata": {
    "colab": {
     "base_uri": "https://localhost:8080/"
    },
    "id": "HTRrGcwRs2s-",
    "outputId": "60d2c084-56c2-48f1-d6b4-a9b83ad302b5"
   },
   "outputs": [
    {
     "name": "stdout",
     "output_type": "stream",
     "text": [
      "Postivie Examples : 2000\n",
      "Negative Examples : 1620\n"
     ]
    }
   ],
   "source": [
    "pos = 0\n",
    "neg = 0\n",
    "\n",
    "for i in training:\n",
    "    if i[1] == 0:\n",
    "        neg += 1\n",
    "    else:\n",
    "        pos += 1\n",
    "\n",
    "print('Postivie Examples : '+ str(pos))\n",
    "print('Negative Examples : '+ str(neg))"
   ]
  },
  {
   "cell_type": "markdown",
   "metadata": {
    "id": "7b97CI5ztW4t"
   },
   "source": [
    "### Viola Jones Detection"
   ]
  },
  {
   "cell_type": "code",
   "execution_count": 16,
   "metadata": {
    "id": "jEKpqy1nfNe0"
   },
   "outputs": [],
   "source": [
    "def get_peras(err ,acc ,weights):\n",
    "    beta = err / (1.0 - err)\n",
    "\n",
    "    wts = update_weights(beta ,acc ,weights)\n",
    "    \n",
    "    alpha = math.log( 1.0 / beta )\n",
    "\n",
    "    return beta , wts , alpha\n"
   ]
  },
  {
   "cell_type": "code",
   "execution_count": 17,
   "metadata": {
    "id": "mwx3XvbufieA"
   },
   "outputs": [],
   "source": [
    "def update_weights(beta ,acc ,weights):\n",
    "    new_wt = []\n",
    "\n",
    "    for i in range( len(acc) ):\n",
    "        temp_w = 1 - acc[i]\n",
    "        temp_w = beta**temp_w\n",
    "        temp_w = temp_w * weights[i]\n",
    "\n",
    "        new_wt.append(temp_w)\n",
    "\n",
    "    return new_wt"
   ]
  },
  {
   "cell_type": "markdown",
   "metadata": {
    "id": "oJgZbRLYE51h"
   },
   "source": [
    "**Select Best Weak Features**"
   ]
  },
  {
   "cell_type": "code",
   "execution_count": 7,
   "metadata": {
    "id": "nGGaggAQEs05"
   },
   "outputs": [],
   "source": [
    "def best_features(classifiers, weights, training_data):\n",
    "   \n",
    "    print('Select Feature')\n",
    "    opt_clf = None \n",
    "    opt_error = float('inf') \n",
    "    opt_acc = None\n",
    "    \n",
    "    for clf in classifiers:\n",
    "\n",
    "        error = 0\n",
    "        acc = []\n",
    "        \n",
    "        for data, w in zip(training_data, weights):\n",
    "\n",
    "            temp_acc = abs( classify_from_weak(data[0] , clf) - data[1])\n",
    "            acc.append(temp_acc)\n",
    "            error += w * temp_acc\n",
    "        \n",
    "        error = error / len(training_data)\n",
    "        \n",
    "        if error < best_error:\n",
    "            opt_clf = clf \n",
    "            opt_error = error \n",
    "            opt_acc = acc\n",
    "    \n",
    "    return opt_clf, opt_error, opt_acc"
   ]
  },
  {
   "cell_type": "code",
   "execution_count": 8,
   "metadata": {
    "id": "PmVkxpD3IBkZ"
   },
   "outputs": [],
   "source": [
    "def classify_from_weak(img , clf ):      \n",
    "\n",
    "    pos_box = clf[0][0]\n",
    "    neg_box = clf[0][1]\n",
    "\n",
    "    threshold = clf[1]\n",
    "    parity = clf[2]\n",
    "\n",
    "    pos_val = compute_feat(img , pos_box)\n",
    "    neg_val = compute_feat(img , neg_box)\n",
    "\n",
    "    feature_val = pos_val - neg_val     \n",
    "\n",
    "    if parity * feature_val < parity * threshold :\n",
    "        return 1\n",
    "    else:\n",
    "        return 0\n"
   ]
  },
  {
   "cell_type": "markdown",
   "metadata": {
    "id": "bXThTeoLrlYL"
   },
   "source": [
    "**Weak Classifier**"
   ]
  },
  {
   "cell_type": "markdown",
   "metadata": {
    "id": "jigWgOjyqtFn"
   },
   "source": [
    "    \n",
    "Find The Threshold :<br>\n",
    "1) Take each feature value as a threshold and predict training samples as positive or negative <br> \n",
    "2) Prediction : if threshold > feature value of sample , sample is positive ,Negative otherwise<br> \n",
    "3) Find the Accuracy by comparing these predictions with Ground truth<br> \n",
    "4) Find such feature value that maximizes the accuracy and minimized misclassification <br>\n",
    "\n",
    "\n",
    "**Other Varient ( Efficiant Algorithm)<br>\n",
    "Running sum of weights**\n",
    "      \n",
    "Sort Features <br>\n",
    "Running sums $S^+$ and $S^-$, total sums $T^+$ and $T^-$, Minimize the error $e$ \n",
    "\n",
    "$$\n",
    "\\epsilon = \\min\\left( S^+ + \\left(T^- - S^-\\right) \\quad,\\quad S^- + \\left(T^+ - S^+\\right) \\right).\n",
    "$$\n",
    "\n",
    "The first term, $S^+ + \\left(T^- - S^-\\right)$, represnts the error of labelling all items below this threshold as \"negative\" , while labelling all above as \"positive\".\n"
   ]
  },
  {
   "cell_type": "code",
   "execution_count": 9,
   "metadata": {
    "id": "RSq9DJiw3pO_"
   },
   "outputs": [],
   "source": [
    "def learn_weak_clf(X, y, features, weights):\n",
    "\n",
    "    total_pos_w = 0 \n",
    "    total_neg_w = 0\n",
    "\n",
    "    for i in range( len(y)):\n",
    "        if y[i] == 0:\n",
    "            total_neg_w = total_neg_w + weights[i]\n",
    "        else:\n",
    "            total_pos_w = total_pos_w + weights[i]\n",
    "\n",
    "    classifiers = []\n",
    "    total_features = X.shape[0]\n",
    "    idx = 0 \n",
    "\n",
    "    for feature in X :\n",
    "        \n",
    "        if idx%200 == 0:\n",
    "            print('Trained Weak classifiers : ' + str(idx) +'/' + str(total_features))\n",
    "\n",
    "        temp = zip( weights ,feature ,y)\n",
    "        sorted_feature = sorted( temp , key=lambda t: t[1])\n",
    "\n",
    "        clf = get_weak_classifier(features ,sorted_feature , total_neg_w ,total_pos_w ,idx)\n",
    "    \n",
    "        classifiers.append(clf)\n",
    "        idx += 1\n",
    "    return classifiers"
   ]
  },
  {
   "cell_type": "code",
   "execution_count": 10,
   "metadata": {
    "id": "8wMT6htBwHsU"
   },
   "outputs": [],
   "source": [
    "def get_weak_classifier(orig_feats ,feats ,total_neg ,total_pos ,index):\n",
    "    cur_pos = 0\n",
    "    cur_neg = 0\n",
    "    cur_pos_w = 0 \n",
    "    cur_neg_w = 0\n",
    "    least_error = float('inf') \n",
    "    opt_feat = None \n",
    "    opt_thr = None  \n",
    "    opt_parity = None\n",
    "\n",
    "    for w, f, label in feats:\n",
    "\n",
    "        # weighted misclassification error\n",
    "        temp_e = min( cur_pos_w + (total_neg - cur_neg_w ) ,cur_neg_w + (total_pos - cur_pos_w ) )\n",
    "        \n",
    "        if temp_e < least_error:\n",
    "            least_error = temp_e\n",
    "            opt_feat = orig_feats[index]\n",
    "            opt_thr = f\n",
    "\n",
    "            if cur_pos > cur_neg:\n",
    "                opt_parity = 1\n",
    "            else:\n",
    "                opt_parity = -1\n",
    "\n",
    "        if label == 1:\n",
    "            cur_pos += 1\n",
    "            cur_pos_w += w\n",
    "        else:\n",
    "            cur_neg += 1\n",
    "            cur_neg_w += w\n",
    "\n",
    "    clf = [ opt_feat, opt_thr, opt_parity ]\n",
    "    \n",
    "    return clf"
   ]
  },
  {
   "cell_type": "markdown",
   "metadata": {
    "id": "KmZUVL_1QsMR"
   },
   "source": [
    "**Make Intergral Image**"
   ]
  },
  {
   "cell_type": "code",
   "execution_count": 11,
   "metadata": {
    "id": "WKJdTyWhyA4q"
   },
   "outputs": [],
   "source": [
    "def get_integral_image(image):\n",
    "\n",
    "    output = np.zeros(image.shape)\n",
    "    \n",
    "    for i in range(image.shape[0]):\n",
    "        for j in range(image.shape[1]):\n",
    "\n",
    "            if i==0 and j==0:\n",
    "                output[i][j] = image[i][j]\n",
    "            elif i==0:\n",
    "                output[i][j] = output[i][j-1] + image[i][j]\n",
    "            elif j==0:\n",
    "                output[i][j] = output[i-1][j] + image[i][j]\n",
    "            else:\n",
    "                output[i][j] = output[i-1][j] + output[i][j-1] - output[i-1][j-1] + image[i][j]\n",
    "\n",
    "    return output"
   ]
  },
  {
   "cell_type": "markdown",
   "metadata": {
    "id": "saA0TXjHQ0ya"
   },
   "source": [
    "**Get features**"
   ]
  },
  {
   "cell_type": "code",
   "execution_count": 12,
   "metadata": {
    "id": "EFDwftVw4h0a"
   },
   "outputs": [],
   "source": [
    "def generate_features(image_shape):\n",
    "\n",
    "    height, width = image_shape\n",
    "    boxes = []\n",
    "\n",
    "    for w in range(1, width+1):\n",
    "        for h in range(1, height+1):\n",
    "            \n",
    "            i = 0\n",
    "            while i + w < width:\n",
    "                j = 0\n",
    "                while j + h < height:\n",
    "\n",
    "                    #2 window features\n",
    "                    current = [i,j,w,h]\n",
    "                    right = [i+w,j,w,h]\n",
    "                    down =  [i,j+h,w,h]\n",
    "                    \n",
    "                    #Horizontal Neighbours\n",
    "                    if i + 2*w < width: \n",
    "                        boxes.append([[right], [current]])\n",
    "\n",
    "                    #Vertically Neighbours\n",
    "                    if j + 2*h < height: \n",
    "                        boxes.append([[current], [down]])\n",
    "\n",
    "\n",
    "                    #3 window features\n",
    "                    last = [ i+2*w, j, w, h]\n",
    "                    last_down = [i, j+2*h, w, h]\n",
    "                    \n",
    "                    #Horizontal Neighbours\n",
    "                    if i + 3*w < width: \n",
    "                        boxes.append([[right], [last, current]])\n",
    "\n",
    "                    #Vertical Neighbours\n",
    "                    if j + 3*h < height: \n",
    "                        boxes.append([[down] , [last_down, current]] )\n",
    "\n",
    "                    #4 window features\n",
    "                    down_right = [i+w, j+h, w, h]\n",
    "                    if i + 2*w < width and j + 2*h < height:\n",
    "                        boxes.append( [ [right, down], [current, down_right] ])\n",
    "\n",
    "                    j += 1\n",
    "                i += 1\n",
    "    \n",
    "    boxes = np.array(boxes , dtype='object')\n",
    "    return boxes"
   ]
  },
  {
   "cell_type": "markdown",
   "metadata": {
    "id": "wu9mycr-rVVr"
   },
   "source": [
    "**Apply Features On Training Data**"
   ]
  },
  {
   "cell_type": "code",
   "execution_count": 13,
   "metadata": {
    "id": "eHslxycTvYL_"
   },
   "outputs": [],
   "source": [
    "def compute_feat(img , feat_box ):\n",
    "\n",
    "    total = 0\n",
    "\n",
    "    for box in feat_box:\n",
    "        val = img[ box[1] + box[3] ][ box[0] + box[2]] + img[ box[1] ][ box[0] ]\n",
    "        val = val - ( img[ box[1] +box[3] ][ box[0]] + img[box[1]][box[0] + box[2]])\n",
    "        total += val \n",
    "\n",
    "    return total"
   ]
  },
  {
   "cell_type": "code",
   "execution_count": 14,
   "metadata": {
    "id": "6d-hoi9bVo5-"
   },
   "outputs": [],
   "source": [
    "def get_feature_matrix(feature_boxes, data_train):\n",
    "\n",
    "    y = []\n",
    "    feature_matrix = []\n",
    "\n",
    "    for i in data_train:\n",
    "        y.append(i[1])\n",
    "    \n",
    "    y = np.array(y)\n",
    "    c = 0\n",
    "    for feature in feature_boxes:\n",
    "        if c%1000 == 0:\n",
    "            print(c)\n",
    "\n",
    "        pos_box = feature[0]\n",
    "        neg_box = feature[1]\n",
    "        \n",
    "        feat_value = []\n",
    "\n",
    "        for img in data_train:\n",
    "            pos_val = compute_feat(img[0] ,pos_box)\n",
    "            neg_val = compute_feat(img[0] ,neg_box)\n",
    "\n",
    "            feat_value.append(pos_val - neg_val)\n",
    "\n",
    "        feature_matrix.append(feat_value)\n",
    "\n",
    "        c += 1\n",
    "    \n",
    "    feature_matrix = np.array(feature_matrix)\n",
    "\n",
    "    return feature_matrix, y"
   ]
  },
  {
   "cell_type": "code",
   "execution_count": 22,
   "metadata": {
    "id": "3coX-ePrtIUV"
   },
   "outputs": [],
   "source": [
    "class VJ:\n",
    "\n",
    "    def __init__(self, T = 10):\n",
    "\n",
    "        self.T = T #Number of Classifiers\n",
    "        self.alphas = [] \n",
    "        self.clfs = []\n",
    "\n",
    "    def train(self, training, pos_num, neg_num):\n",
    "        weights = np.zeros(len(training))\n",
    "        training_data = []\n",
    "        \n",
    "        print(\"Integral Images\")\n",
    "        for i in range(len(training)):\n",
    "            i_image = get_integral_image( training[i][0])\n",
    "            label = training[i][1]\n",
    "\n",
    "            training_data.append((i_image, label))\n",
    "        \n",
    "        print(\"Initializing weights\")\n",
    "        weights = []\n",
    "\n",
    "        for i in range(len(training)):\n",
    "            if training[i][1] == 1:\n",
    "                weights.append(1.0 / (2 * pos_num))\n",
    "            else:\n",
    "                weights.append(1.0 / (2 * neg_num))\n",
    "\n",
    "        weights = np.array(weights)\n",
    "\n",
    "        print(\"Generating features\")\n",
    "        features = generate_features(training_data[0][0].shape)\n",
    "        print('\\t Number of Features : '+ str(len(features)) )\n",
    "        \n",
    "        print(\"Applying features to training examples\")\n",
    "        X, y = get_feature_matrix(features, training_data)\n",
    "        \n",
    "        print(\"Selecting best features\")\n",
    "        indices = SelectPercentile(f_classif, percentile=10).fit(X.T, y).get_support(indices=True)\n",
    "        \n",
    "        X = X[indices]\n",
    "        features = features[indices]\n",
    "        print(\"Selected features : \" + str(len(X)))\n",
    "        \n",
    "        \n",
    "        for t in range(self.T):\n",
    "            weights = weights / np.linalg.norm(weights)\n",
    "\n",
    "            print('iter : ' + str(t))\n",
    "            weak_clfs = learn_weak_clf(X, y, features, weights)\n",
    "            clf, err, acc = best_features(weak_clfs, weights, training_data)\n",
    "            \n",
    "            beta , weights ,alpha = get_peras(err , acc ,weights)\n",
    "            \n",
    "            self.alphas.append(alpha)\n",
    "            self.clfs.append(clf)\n",
    "            print(\"Chose classifier: %s with accuracy: %f and alpha: %f\" % (str(clf), len(acc) - sum(acc), alpha))\n"
   ]
  },
  {
   "cell_type": "code",
   "execution_count": 23,
   "metadata": {
    "colab": {
     "base_uri": "https://localhost:8080/"
    },
    "id": "xGRgYacRx_al",
    "outputId": "8175e467-85ce-4b88-b8b9-cfa79e7c2c90"
   },
   "outputs": [
    {
     "name": "stdout",
     "output_type": "stream",
     "text": [
      "Integral Images\n",
      "Initializing weights\n",
      "Building features\n",
      "\t Number of Features : 18991\n",
      "Selected 1899 potential features\n",
      "iter : 0\n",
      "Trained Weak classifiers : 0/1899\n",
      "Trained Weak classifiers : 200/1899\n",
      "Trained Weak classifiers : 400/1899\n",
      "Trained Weak classifiers : 600/1899\n",
      "Trained Weak classifiers : 800/1899\n",
      "Trained Weak classifiers : 1000/1899\n",
      "Trained Weak classifiers : 1200/1899\n",
      "Trained Weak classifiers : 1400/1899\n",
      "Trained Weak classifiers : 1600/1899\n",
      "Trained Weak classifiers : 1800/1899\n",
      "Select Feature\n",
      "Chose classifier: [array([list([[1, 3, 11, 1]]), list([[1, 4, 11, 1]])], dtype=object), -154.0, 1] with accuracy: 3127.000000 and alpha: 6.042649\n",
      "iter : 1\n",
      "Trained Weak classifiers : 0/1899\n",
      "Trained Weak classifiers : 200/1899\n",
      "Trained Weak classifiers : 400/1899\n",
      "Trained Weak classifiers : 600/1899\n",
      "Trained Weak classifiers : 800/1899\n",
      "Trained Weak classifiers : 1000/1899\n",
      "Trained Weak classifiers : 1200/1899\n",
      "Trained Weak classifiers : 1400/1899\n",
      "Trained Weak classifiers : 1600/1899\n",
      "Trained Weak classifiers : 1800/1899\n",
      "Select Feature\n",
      "Chose classifier: [array([list([[4, 0, 4, 2]]), list([[0, 0, 4, 2]])], dtype=object), 349.0, -1] with accuracy: 2295.000000 and alpha: 6.573803\n",
      "iter : 2\n",
      "Trained Weak classifiers : 0/1899\n",
      "Trained Weak classifiers : 200/1899\n",
      "Trained Weak classifiers : 400/1899\n",
      "Trained Weak classifiers : 600/1899\n",
      "Trained Weak classifiers : 800/1899\n",
      "Trained Weak classifiers : 1000/1899\n",
      "Trained Weak classifiers : 1200/1899\n",
      "Trained Weak classifiers : 1400/1899\n",
      "Trained Weak classifiers : 1600/1899\n",
      "Trained Weak classifiers : 1800/1899\n",
      "Select Feature\n",
      "Chose classifier: [array([list([[5, 2, 6, 3]]), list([[5, 5, 6, 3]])], dtype=object), 80.0, 1] with accuracy: 2822.000000 and alpha: 8.018201\n",
      "iter : 3\n",
      "Trained Weak classifiers : 0/1899\n",
      "Trained Weak classifiers : 200/1899\n",
      "Trained Weak classifiers : 400/1899\n",
      "Trained Weak classifiers : 600/1899\n",
      "Trained Weak classifiers : 800/1899\n",
      "Trained Weak classifiers : 1000/1899\n",
      "Trained Weak classifiers : 1200/1899\n",
      "Trained Weak classifiers : 1400/1899\n",
      "Trained Weak classifiers : 1600/1899\n",
      "Trained Weak classifiers : 1800/1899\n",
      "Select Feature\n",
      "Chose classifier: [array([list([[9, 12, 3, 1]]), list([[6, 12, 3, 1]])], dtype=object), -141.0, 1] with accuracy: 2202.000000 and alpha: 11.685744\n",
      "iter : 4\n",
      "Trained Weak classifiers : 0/1899\n",
      "Trained Weak classifiers : 200/1899\n",
      "Trained Weak classifiers : 400/1899\n",
      "Trained Weak classifiers : 600/1899\n",
      "Trained Weak classifiers : 800/1899\n",
      "Trained Weak classifiers : 1000/1899\n",
      "Trained Weak classifiers : 1200/1899\n",
      "Trained Weak classifiers : 1400/1899\n",
      "Trained Weak classifiers : 1600/1899\n",
      "Trained Weak classifiers : 1800/1899\n",
      "Select Feature\n",
      "Chose classifier: [array([list([[8, 0, 3, 6], [5, 6, 3, 6]]),\n",
      "       list([[5, 0, 3, 6], [8, 6, 3, 6]])], dtype=object), -5.0, 1] with accuracy: 2586.000000 and alpha: 8.094615\n",
      "iter : 5\n",
      "Trained Weak classifiers : 0/1899\n",
      "Trained Weak classifiers : 200/1899\n",
      "Trained Weak classifiers : 400/1899\n",
      "Trained Weak classifiers : 600/1899\n",
      "Trained Weak classifiers : 800/1899\n",
      "Trained Weak classifiers : 1000/1899\n",
      "Trained Weak classifiers : 1200/1899\n",
      "Trained Weak classifiers : 1400/1899\n",
      "Trained Weak classifiers : 1600/1899\n",
      "Trained Weak classifiers : 1800/1899\n",
      "Select Feature\n",
      "Chose classifier: [array([list([[10, 0, 2, 2], [8, 2, 2, 2]]),\n",
      "       list([[8, 0, 2, 2], [10, 2, 2, 2]])], dtype=object), 51.0, 1] with accuracy: 2467.000000 and alpha: 12.431546\n",
      "iter : 6\n",
      "Trained Weak classifiers : 0/1899\n",
      "Trained Weak classifiers : 200/1899\n",
      "Trained Weak classifiers : 400/1899\n",
      "Trained Weak classifiers : 600/1899\n",
      "Trained Weak classifiers : 800/1899\n",
      "Trained Weak classifiers : 1000/1899\n",
      "Trained Weak classifiers : 1200/1899\n",
      "Trained Weak classifiers : 1400/1899\n",
      "Trained Weak classifiers : 1600/1899\n",
      "Trained Weak classifiers : 1800/1899\n",
      "Select Feature\n",
      "Chose classifier: [array([list([[5, 2, 3, 2], [2, 4, 3, 2]]),\n",
      "       list([[2, 2, 3, 2], [5, 4, 3, 2]])], dtype=object), 218.0, -1] with accuracy: 2169.000000 and alpha: 10.536249\n",
      "iter : 7\n",
      "Trained Weak classifiers : 0/1899\n",
      "Trained Weak classifiers : 200/1899\n",
      "Trained Weak classifiers : 400/1899\n",
      "Trained Weak classifiers : 600/1899\n",
      "Trained Weak classifiers : 800/1899\n",
      "Trained Weak classifiers : 1000/1899\n",
      "Trained Weak classifiers : 1200/1899\n",
      "Trained Weak classifiers : 1400/1899\n",
      "Trained Weak classifiers : 1600/1899\n",
      "Trained Weak classifiers : 1800/1899\n",
      "Select Feature\n",
      "Chose classifier: [array([list([[1, 4, 9, 1]]), list([[1, 5, 9, 1]])], dtype=object), -48.0, 1] with accuracy: 2783.000000 and alpha: 11.050012\n",
      "iter : 8\n",
      "Trained Weak classifiers : 0/1899\n",
      "Trained Weak classifiers : 200/1899\n",
      "Trained Weak classifiers : 400/1899\n",
      "Trained Weak classifiers : 600/1899\n",
      "Trained Weak classifiers : 800/1899\n",
      "Trained Weak classifiers : 1000/1899\n",
      "Trained Weak classifiers : 1200/1899\n",
      "Trained Weak classifiers : 1400/1899\n",
      "Trained Weak classifiers : 1600/1899\n",
      "Trained Weak classifiers : 1800/1899\n",
      "Select Feature\n",
      "Chose classifier: [array([list([[7, 2, 3, 2]]), list([[7, 4, 3, 2], [7, 0, 3, 2]])],\n",
      "      dtype=object), -671.0, 1] with accuracy: 2513.000000 and alpha: 11.926103\n",
      "iter : 9\n",
      "Trained Weak classifiers : 0/1899\n",
      "Trained Weak classifiers : 200/1899\n",
      "Trained Weak classifiers : 400/1899\n",
      "Trained Weak classifiers : 600/1899\n",
      "Trained Weak classifiers : 800/1899\n",
      "Trained Weak classifiers : 1000/1899\n",
      "Trained Weak classifiers : 1200/1899\n",
      "Trained Weak classifiers : 1400/1899\n",
      "Trained Weak classifiers : 1600/1899\n",
      "Trained Weak classifiers : 1800/1899\n",
      "Select Feature\n",
      "Chose classifier: [array([list([[5, 3, 2, 3]]), list([[3, 3, 2, 3]])], dtype=object), 154.0, -1] with accuracy: 2148.000000 and alpha: 10.745442\n"
     ]
    }
   ],
   "source": [
    "vj = VJ(10)\n",
    "vj.train(training ,pos ,neg)"
   ]
  },
  {
   "cell_type": "markdown",
   "metadata": {
    "id": "6QRzavbKsi6m"
   },
   "source": [
    "**Testing**"
   ]
  },
  {
   "cell_type": "code",
   "execution_count": 63,
   "metadata": {
    "id": "-IdFGDFzsr_d"
   },
   "outputs": [],
   "source": [
    "def evaluate(clf, test_data):\n",
    "    acc = 0\n",
    "    tot_time = 0\n",
    "\n",
    "    for img, y in test_data:\n",
    "        \n",
    "        start = time.time()\n",
    "        prediction = classify(img ,clf.alphas ,clf.clfs)\n",
    "        tot_time += ( time.time() - start ) \n",
    "        \n",
    "        if prediction == y:\n",
    "            acc += 1\n",
    "        else:\n",
    "            acc += 0\n",
    "        \n",
    "    print('Accuracy: '+ str(acc/len(test_data)) )\n",
    "    print(\"Average Classification Time:\" + str( ( tot_time / len(test_data))) )"
   ]
  },
  {
   "cell_type": "code",
   "execution_count": 30,
   "metadata": {
    "id": "g9Wpn0DJtMW3"
   },
   "outputs": [],
   "source": [
    "def classify(image ,alphas ,clfs):\n",
    "    total = 0\n",
    "    i_img = get_integral_image(image)\n",
    "\n",
    "    for i in range( len(alphas) ):\n",
    "        temp = alphas[i] * classify_from_weak(i_img , clfs[i])\n",
    "        total += temp\n",
    "\n",
    "    if total >= 0.5*sum(alphas):\n",
    "        return 1\n",
    "    else :\n",
    "        return 0"
   ]
  },
  {
   "cell_type": "code",
   "execution_count": 64,
   "metadata": {
    "colab": {
     "base_uri": "https://localhost:8080/"
    },
    "id": "WK7ImuEpsnzD",
    "outputId": "034a5946-5e2d-4dbf-caad-efca8218c6d6"
   },
   "outputs": [
    {
     "name": "stdout",
     "output_type": "stream",
     "text": [
      "Accuracy: 0.8790520294197767\n",
      "Average Classification Time:0.0006264392636641271\n"
     ]
    }
   ],
   "source": [
    "with open(\"/content/drive/MyDrive/drive_files/test_data_15X15.pkl\", 'rb') as f:\n",
    "    test = pickle.load(f)\n",
    "    \n",
    "evaluate(vj, test)"
   ]
  },
  {
   "cell_type": "code",
   "execution_count": 47,
   "metadata": {
    "id": "IdvHoe3YvWg4"
   },
   "outputs": [],
   "source": [
    "faces = []\n",
    "non_faces = []\n",
    "\n",
    "for i in test:\n",
    "    if i[1] == 1:\n",
    "        faces.append(i[0])\n",
    "    else:\n",
    "        non_faces.append(i[0])"
   ]
  },
  {
   "cell_type": "code",
   "execution_count": 58,
   "metadata": {
    "id": "88XkTZhfvcrQ"
   },
   "outputs": [],
   "source": [
    "plt.rcParams[\"figure.figsize\"] = (10,10)\n",
    "def plot(img_list , vj):\n",
    "    \n",
    "    preds = []\n",
    "\n",
    "    for i in img_list[:4]:\n",
    "        temp = classify( i ,vj.alphas ,vj.clfs)\n",
    "        if temp == 0:\n",
    "            preds.append('Non Face')\n",
    "        else:\n",
    "            preds.append('Face')\n",
    "      \n",
    "    \n",
    "    \n",
    "    f, axarr = plt.subplots(1,4)\n",
    "    axarr[0].set_title('Predicted : '+ preds[0])\n",
    "    axarr[0].imshow(img_list[0] ,cmap='gray')\n",
    "\n",
    "    axarr[1].set_title('Predicted : '+ preds[1])\n",
    "    axarr[1].imshow(img_list[1] ,cmap='gray')\n",
    "\n",
    "    axarr[2].set_title('Predicted : '+ preds[2])\n",
    "    axarr[2].imshow(img_list[2] ,cmap='gray')\n",
    "\n",
    "    axarr[3].set_title('Predicted : '+ preds[3])\n",
    "    axarr[3].imshow(img_list[3] ,cmap='gray')"
   ]
  },
  {
   "cell_type": "code",
   "execution_count": 59,
   "metadata": {
    "colab": {
     "base_uri": "https://localhost:8080/",
     "height": 202
    },
    "id": "X4Ihoe16wscD",
    "outputId": "4be02c54-2a91-4500-f3cb-b96352c46065"
   },
   "outputs": [
    {
     "name": "stdout",
     "output_type": "stream",
     "text": [
      "Original Faces\n"
     ]
    },
    {
     "data": {
      "image/png": "[encoded data removed]",
      "text/plain": [
       "<Figure size 720x720 with 4 Axes>"
      ]
     },
     "metadata": {
      "needs_background": "light",
      "tags": []
     },
     "output_type": "display_data"
    }
   ],
   "source": [
    "print('Original Faces')\n",
    "plot(faces ,vj)"
   ]
  },
  {
   "cell_type": "code",
   "execution_count": 61,
   "metadata": {
    "colab": {
     "base_uri": "https://localhost:8080/",
     "height": 202
    },
    "id": "cg1rhjAjxCEF",
    "outputId": "afaad3cb-e6c7-46d0-81f6-8c66d5a04d2e"
   },
   "outputs": [
    {
     "name": "stdout",
     "output_type": "stream",
     "text": [
      "Original Non Faces\n"
     ]
    },
    {
     "data": {
      "image/png": "[encoded data removed]",
      "text/plain": [
       "<Figure size 720x720 with 4 Axes>"
      ]
     },
     "metadata": {
      "needs_background": "light",
      "tags": []
     },
     "output_type": "display_data"
    }
   ],
   "source": [
    "print('Original Non Faces')\n",
    "plot(non_faces , vj)"
   ]
  }
 ],
 "metadata": {
  "colab": {
   "collapsed_sections": [],
   "name": "Viola_jones_final.ipynb",
   "provenance": []
  },
  "kernelspec": {
   "display_name": "Python 3",
   "language": "python",
   "name": "python3"
  },
  "language_info": {
   "codemirror_mode": {
    "name": "ipython",
    "version": 3
   },
   "file_extension": ".py",
   "mimetype": "text/x-python",
   "name": "python",
   "nbconvert_exporter": "python",
   "pygments_lexer": "ipython3",
   "version": "3.8.5"
  }
 },
 "nbformat": 4,
 "nbformat_minor": 1
}
